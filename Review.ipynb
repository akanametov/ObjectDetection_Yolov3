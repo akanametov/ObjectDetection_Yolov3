{
 "cells": [
  {
   "cell_type": "markdown",
   "metadata": {},
   "source": [
    "# Object Detection\n",
    "\n",
    "\n",
    "#### CСЫЛКА НА GitHub: "
   ]
  },
  {
   "cell_type": "markdown",
   "metadata": {},
   "source": [
    "## Что было сделано?\n",
    "--------------------------------------\n",
    "### I Model: Yolov3, Yolov3Tiny\n",
    "\n",
    "**1.1) Написаны слой `YoloLayer` и `SoftIoUnion`(MultiBoxIoUnion) в `yolov3 ---> yolo_layer.py`**\n",
    "\n",
    "**1.2) Слегка переписаны `yolov3.py`, `yolov3_base.py` и `yolov3_tiny.py` в `yolov3` (архитектура)**\n",
    "\n",
    "---------------------------------------\n",
    "\n",
    "### II Dataset: VOC Dataset\n",
    "\n",
    "**2.1) Написан датасет `VOCDataset` и `PlotSample` в `voc_utils.py`**\n",
    "\n",
    "---------------------------------------\n",
    "\n",
    "### III Detection functions\n",
    "\n",
    "**3.1) С нуля написан `dutils.py` и соответсвенно функции:**\n",
    "- `IoUnion` для расчета **Intersection over Union** между двумя боксами\n",
    "\n",
    "- `NonMaxSuppression` для подавления боксов с **Intersection over Union** меньше определенного значения\n",
    "\n",
    "- `YoloHead` для конвертирования предикта в скоры (уверенность в боксе), боксы (координаты: cx, cy, w, h), классы (индексы). \n",
    "\n",
    "- `DrawBoxes` для рисования боксов (рамок вокруг объекта)\n",
    "\n",
    "- `PictureDetection` для предикта на изображениях \n",
    "\n",
    "- `VideoDetection` для предикта на web-video\n",
    "\n",
    "------------------------------------------\n",
    "\n",
    "### IV Notebooks\n",
    "\n",
    "**4.1) Написан `TrainDetection[VOCDataset].ipynb` для тренировки `Yolov3` на `VOC Dataset`**\n",
    "\n",
    "**4.2) Написан `PictureDetection.ipynb` для быстрого предикта на `Yolov3` и `Yolov3Tiny`**\n",
    "\n",
    "**4.3) Написан `WebDetection.ipynb` для быстрого запуска `ObjectDetection` на веб-камере**\n",
    "\n",
    "-------------------------------------------\n",
    "\n",
    "### V Additional\n",
    "\n",
    "**5.1) Написан `detect_picture.py` для запуска *Picture Detection* через *Windows Powershell**\n",
    "\n",
    "**5.2) Написан `detect_web.py` для запуска *Web Detection* через *Windows Powershell**\n"
   ]
  },
  {
   "cell_type": "markdown",
   "metadata": {},
   "source": []
  }
 ],
 "metadata": {
  "kernelspec": {
   "display_name": "Python 3",
   "language": "python",
   "name": "python3"
  },
  "language_info": {
   "codemirror_mode": {
    "name": "ipython",
    "version": 3
   },
   "file_extension": ".py",
   "mimetype": "text/x-python",
   "name": "python",
   "nbconvert_exporter": "python",
   "pygments_lexer": "ipython3",
   "version": "3.8.2"
  }
 },
 "nbformat": 4,
 "nbformat_minor": 4
}
