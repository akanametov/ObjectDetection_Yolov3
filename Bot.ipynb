{
 "cells": [
  {
   "cell_type": "code",
   "execution_count": 1,
   "metadata": {},
   "outputs": [
    {
     "name": "stdout",
     "output_type": "stream",
     "text": [
      "https://api.telegram.org/file/bot966235111:AAHBclJQQ_RuZVVA-YSlMXLAhoYOhceU88s/photos/file_0.jpg\n",
      "https://api.telegram.org/file/bot966235111:AAHBclJQQ_RuZVVA-YSlMXLAhoYOhceU88s/photos/file_1.jpg\n"
     ]
    }
   ],
   "source": [
    "import telebot\n",
    "import torch\n",
    "import urllib\n",
    "import io\n",
    "import os\n",
    "from yolov3.yolov3_tiny import *\n",
    "from dutils import PictureDetection\n",
    "\n",
    "token='966235111:AAHBclJQQ_RuZVVA-YSlMXLAhoYOhceU88s'\n",
    "\n",
    "bot = telebot.TeleBot(token)\n",
    "\n",
    "@bot.message_handler(commands=['start'])\n",
    "def start_message(message):\n",
    "    text=\"YoloDetectorBot \\n[by Azamat Kanametov]\\n\\nSend me a photo...\" \n",
    "    bot.send_message(message.chat.id, text)\n",
    "    \n",
    "def get_image_id(message):\n",
    "    return message.photo[len(message.photo)-1].file_id\n",
    "\n",
    "def save_image(message):\n",
    "    image_id = get_image_id(message)\n",
    "    bot.send_message(message.chat.id, 'Analyzing image, be patient...')\n",
    "\n",
    "    file_path = bot.get_file(image_id).file_path\n",
    "\n",
    "    image_url = \"https://api.telegram.org/file/bot{0}/{1}\".format(token, file_path)\n",
    "    print(image_url)\n",
    "    image_name = \"images/{0}.jpg\".format(image_id)\n",
    "    urllib.request.urlretrieve(image_url, image_name)\n",
    "    return image_name\n",
    "\n",
    "def detect(message):\n",
    "    path = save_image(message)\n",
    "    model = Yolov3Tiny(num_classes=80)\n",
    "    model.load_state_dict(torch.load('models/yolov3(tiny).h5'))\n",
    "    img = PictureDetection(model, path, size=(256, 256), dataset='coco')\n",
    "    Byte = io.BytesIO()\n",
    "    img.save(Byte, format='PNG')\n",
    "    imgByte = Byte.getvalue()\n",
    "    os.remove(path)\n",
    "    return imgByte\n",
    "\n",
    "@bot.message_handler(content_types=['photo'])\n",
    "def send_text(message):\n",
    "    bot.send_photo(message.chat.id, detect(message))\n",
    "    bot.send_message(message.chat.id, 'Objects detected!')\n",
    "\n",
    "bot.polling()"
   ]
  },
  {
   "cell_type": "code",
   "execution_count": null,
   "metadata": {},
   "outputs": [],
   "source": []
  }
 ],
 "metadata": {
  "kernelspec": {
   "display_name": "Python 3",
   "language": "python",
   "name": "python3"
  },
  "language_info": {
   "codemirror_mode": {
    "name": "ipython",
    "version": 3
   },
   "file_extension": ".py",
   "mimetype": "text/x-python",
   "name": "python",
   "nbconvert_exporter": "python",
   "pygments_lexer": "ipython3",
   "version": "3.8.2"
  }
 },
 "nbformat": 4,
 "nbformat_minor": 4
}
